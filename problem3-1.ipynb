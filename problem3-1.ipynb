{
 "metadata": {
  "language_info": {
   "codemirror_mode": {
    "name": "ipython",
    "version": 3
   },
   "file_extension": ".py",
   "mimetype": "text/x-python",
   "name": "python",
   "nbconvert_exporter": "python",
   "pygments_lexer": "ipython3",
   "version": "3.9.0"
  },
  "orig_nbformat": 4,
  "kernelspec": {
   "name": "python3",
   "display_name": "Python 3.9.0 64-bit"
  },
  "interpreter": {
   "hash": "8da01e5a71448ea74f54d88afa8911010d1d12e23bc7e103d40d5def4a09152c"
  }
 },
 "nbformat": 4,
 "nbformat_minor": 2,
 "cells": [
  {
   "cell_type": "code",
   "execution_count": 6,
   "metadata": {},
   "outputs": [],
   "source": [
    "import json\n",
    "import time\n",
    "import matplotlib.pyplot as plt\n",
    "import pandas as pd"
   ]
  },
  {
   "cell_type": "code",
   "execution_count": 7,
   "metadata": {},
   "outputs": [],
   "source": [
    "# Load data from internal json file\n",
    "with open('sensor_data.json') as f:\n",
    "    sensor_data = json.load(f)"
   ]
  },
  {
   "cell_type": "code",
   "execution_count": 5,
   "metadata": {},
   "outputs": [],
   "source": [
    "sensor_value = [\n",
    "    {\n",
    "        'temperature': 0,\n",
    "        'humidity': 0\n",
    "    }\n",
    "]\n",
    "count = 0"
   ]
  },
  {
   "cell_type": "code",
   "execution_count": 6,
   "metadata": {},
   "outputs": [],
   "source": [
    "# while (True):\n",
    "for i in sensor_data['array']:\n",
    "    count = count + 1\n",
    "    for j in range(1):\n",
    "        # print(i['temperature'], i['humidity'])\n",
    "        if (count == 1):\n",
    "            sensor_value[j]['temperature'] = i['temperature']\n",
    "            sensor_value[j]['humidity'] = i['humidity']\n",
    "        else:\n",
    "            sensor_value.append({'temperature': i['temperature'], 'humidity': i['humidity']})\n",
    "\n",
    "        # Stream 5 data\n",
    "        if (count % 5 == 0):\n",
    "            # Writing sensor data to endpoint\n",
    "            # with open('stream_sensor_data.json', 'w') as outfile:\n",
    "            #     json.dump(sensor_value, outfile, indent = 2)\n",
    "            \n",
    "            # # Data visualization\n",
    "            # def myplot(value, marker):\n",
    "            #     plt.plot([data['temperature'] for data in value],\n",
    "            #         [data['humidity'] for data in value],\n",
    "            #         marker)\n",
    "            \n",
    "            # myplot(sensor_value, 'k-')\n",
    "\n",
    "            # Data visualization\n",
    "            df = pd.DataFrame(sensor_value)\n",
    "            plt.figure(1)\n",
    "            plt.plot(df['temperature'], df['humidity'], 'k-')\n",
    "            \n",
    "            # Push rate = 2 minutes\n",
    "            time.sleep(2*60)"
   ]
  },
  {
   "cell_type": "code",
   "execution_count": null,
   "metadata": {},
   "outputs": [],
   "source": []
  }
 ]
}